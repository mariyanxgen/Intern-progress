{
  "cells": [
    {
      "cell_type": "code",
      "execution_count": 23,
      "metadata": {
        "colab": {
          "base_uri": "https://localhost:8080/"
        },
        "id": "5OGi230fPjwR",
        "outputId": "9f828f90-98d8-4841-e75e-ef7be6348248"
      },
      "outputs": [
        {
          "name": "stdout",
          "output_type": "stream",
          "text": [
            "Downloading data from UCI archive...\n",
            "--2025-10-06 06:18:16--  https://archive.ics.uci.edu/ml/machine-learning-databases/00228/smsspamcollection.zip\n",
            "Resolving archive.ics.uci.edu (archive.ics.uci.edu)... 128.195.10.252\n",
            "Connecting to archive.ics.uci.edu (archive.ics.uci.edu)|128.195.10.252|:443... connected.\n",
            "HTTP request sent, awaiting response... 200 OK\n",
            "Length: unspecified\n",
            "Saving to: ‘smsspamcollection.zip’\n",
            "\n",
            "smsspamcollection.z     [ <=>                ] 198.65K  1.06MB/s    in 0.2s    \n",
            "\n",
            "2025-10-06 06:18:16 (1.06 MB/s) - ‘smsspamcollection.zip’ saved [203415]\n",
            "\n",
            "Data extracted successfully.\n"
          ]
        }
      ],
      "source": [
        "# 1. Download the file as a ZIP from the UCI repository\n",
        "print(\"Downloading data from UCI archive...\")\n",
        "!wget -O smsspamcollection.zip https://archive.ics.uci.edu/ml/machine-learning-databases/00228/smsspamcollection.zip\n",
        "\n",
        "# 2. Unzip the file to get 'SMSSpamCollection'\n",
        "import zipfile\n",
        "import os\n",
        "\n",
        "local_zip_path = 'smsspamcollection.zip'\n",
        "local_file_path = 'SMSSpamCollection'\n",
        "\n",
        "if os.path.exists(local_zip_path):\n",
        "    with zipfile.ZipFile(local_zip_path, 'r') as zip_ref:\n",
        "        zip_ref.extractall('.')\n",
        "    print(\"Data extracted successfully.\")\n",
        "else:\n",
        "    print(\"Error: ZIP file not found after download attempt.\")"
      ]
    },
    {
      "cell_type": "code",
      "execution_count": 24,
      "metadata": {
        "colab": {
          "base_uri": "https://localhost:8080/"
        },
        "id": "zb-IjkNaPmTp",
        "outputId": "01294139-d344-435d-c146-4921a2daa540"
      },
      "outputs": [
        {
          "name": "stdout",
          "output_type": "stream",
          "text": [
            "\n",
            "Checking/Downloading NLTK Resources...\n",
            "Downloading 'stopwords'...\n",
            "Downloading 'wordnet'...\n",
            "Downloading 'punkt'...\n",
            "Downloading 'omw-1.4'...\n",
            "NLTK Resources ready.\n",
            "\n",
            "SUCCESS: Full dataset loaded. Rows: 5572\n",
            "Duplicates handled. Rows removed: 403\n",
            "\n",
            "--- Class Distribution ---\n",
            "label\n",
            "0    4516\n",
            "1     653\n",
            "Name: count, dtype: int64\n"
          ]
        },
        {
          "name": "stderr",
          "output_type": "stream",
          "text": [
            "[nltk_data] Downloading package stopwords to /root/nltk_data...\n",
            "[nltk_data]   Package stopwords is already up-to-date!\n",
            "[nltk_data] Downloading package wordnet to /root/nltk_data...\n",
            "[nltk_data]   Package wordnet is already up-to-date!\n",
            "[nltk_data] Downloading package punkt to /root/nltk_data...\n",
            "[nltk_data]   Package punkt is already up-to-date!\n",
            "[nltk_data] Downloading package omw-1.4 to /root/nltk_data...\n",
            "[nltk_data]   Package omw-1.4 is already up-to-date!\n"
          ]
        },
        {
          "name": "stdout",
          "output_type": "stream",
          "text": [
            "\n",
            "Data Cleaning and Preparation Steps Complete.\n"
          ]
        }
      ],
      "source": [
        "#Data preparation and cleaning\n",
        "import pandas as pd\n",
        "import numpy as np\n",
        "import re\n",
        "import string\n",
        "import nltk\n",
        "from nltk.corpus import stopwords\n",
        "from nltk.stem import WordNetLemmatizer\n",
        "from nltk.tokenize import word_tokenize\n",
        "\n",
        "# ====================================================================\n",
        "# 1. NLTK Resource Downloads\n",
        "# ====================================================================\n",
        "print(\"\\nChecking/Downloading NLTK Resources...\")\n",
        "required_nltk_resources = ['stopwords', 'wordnet', 'punkt', 'omw-1.4']\n",
        "\n",
        "for resource in required_nltk_resources:\n",
        "    try:\n",
        "        nltk.data.find(resource)\n",
        "    except LookupError:\n",
        "        print(f\"Downloading '{resource}'...\")\n",
        "        nltk.download(resource)\n",
        "print(\"NLTK Resources ready.\")\n",
        "\n",
        "# ====================================================================\n",
        "# 2. Data Loading & Initial Cleaning\n",
        "# ====================================================================\n",
        "\n",
        "FILE_NAME = 'SMSSpamCollection'\n",
        "SUCCESS = False\n",
        "df = pd.DataFrame()\n",
        "\n",
        "try:\n",
        "    # Load the file we just unzipped (tab-separated, no header)\n",
        "    df = pd.read_csv(FILE_NAME, sep='\\t', encoding='latin-1', header=None)\n",
        "    df.columns = ['label', 'message']\n",
        "\n",
        "    if len(df) == 5572:\n",
        "        SUCCESS = True\n",
        "        print(f\"\\nSUCCESS: Full dataset loaded. Rows: {len(df)}\")\n",
        "    else:\n",
        "        raise Exception(f\"File loaded, but row count is incorrect ({len(df)} rows).\")\n",
        "\n",
        "except Exception as e:\n",
        "    print(f\"\\nFATAL ERROR: Could not load full data. Error: {e}\")\n",
        "    # Fallback only for code completion, though results are meaningless\n",
        "    data = {'label': ['ham', 'spam', 'ham'],\n",
        "            'message': ['Go until jurong point, crazy..', 'SIX chances to win CASH!', 'I have a meeting tomorrow.']}\n",
        "    df = pd.DataFrame(data)\n",
        "\n",
        "# --- Continue Cleaning ---\n",
        "df.dropna(inplace=True)\n",
        "rows_before_dup = len(df)\n",
        "df.drop_duplicates(inplace=True)\n",
        "print(f\"Duplicates handled. Rows removed: {rows_before_dup - len(df)}\")\n",
        "df['label'] = df['label'].map({'ham': 0, 'spam': 1})\n",
        "print(\"\\n--- Class Distribution ---\")\n",
        "print(df['label'].value_counts())\n",
        "\n",
        "# --- Text Preprocessing Function ---\n",
        "lemmatizer = WordNetLemmatizer()\n",
        "stop_words = set(stopwords.words('english'))\n",
        "punctuations = string.punctuation\n",
        "\n",
        "def preprocess_text(text):\n",
        "    text = text.lower()\n",
        "    text = re.sub(r'http\\S+|www\\S+|https\\S+|<.*?>|\\d+', '', text, flags=re.MULTILINE)\n",
        "    text = text.translate(str.maketrans('', '', punctuations))\n",
        "    tokens = word_tokenize(text)\n",
        "    processed_tokens = [\n",
        "        lemmatizer.lemmatize(word)\n",
        "        for word in tokens\n",
        "        if word not in stop_words and len(word) > 1\n",
        "    ]\n",
        "    return \" \".join(processed_tokens)\n",
        "\n",
        "# Apply Preprocessing\n",
        "df['clean_message'] = df['message'].apply(preprocess_text)\n",
        "print(\"\\nData Cleaning and Preparation Steps Complete.\")"
      ]
    },
    {
      "cell_type": "code",
      "execution_count": 26,
      "metadata": {
        "colab": {
          "base_uri": "https://localhost:8080/"
        },
        "id": "VdZzMlSWPrxc",
        "outputId": "6db1d230-8b18-4b20-df56-dbf15bfb7016"
      },
      "outputs": [
        {
          "name": "stdout",
          "output_type": "stream",
          "text": [
            "\n",
            "--- 3. Feature Extraction & Model Training ---\n",
            "Dataset split (stratified) and TF-IDF features created. Train Shape: (3618, 6370)\n",
            "1. Naive Bayes Model Trained.\n",
            "2. Logistic Regression Model Trained.\n"
          ]
        }
      ],
      "source": [
        "#Feature extraction\n",
        "from sklearn.model_selection import train_test_split\n",
        "from sklearn.feature_extraction.text import CountVectorizer, TfidfVectorizer\n",
        "from sklearn.naive_bayes import MultinomialNB\n",
        "from sklearn.linear_model import LogisticRegression\n",
        "\n",
        "X = df['clean_message']\n",
        "y = df['label']\n",
        "\n",
        "print(\"\\n--- 3. Feature Extraction & Model Training ---\")\n",
        "\n",
        "# --- Feature Extraction & Splitting ---\n",
        "X_train, X_test, y_train, y_test = train_test_split(\n",
        "    X, y, test_size=0.3, random_state=42, stratify=y\n",
        ")\n",
        "\n",
        "# TF-IDF Vectorization\n",
        "tfidf_vectorizer = TfidfVectorizer()\n",
        "X_train_tfidf = tfidf_vectorizer.fit_transform(X_train)\n",
        "X_test_tfidf = tfidf_vectorizer.transform(X_test)\n",
        "print(f\"Dataset split (stratified) and TF-IDF features created. Train Shape: {X_train_tfidf.shape}\")\n",
        "\n",
        "# --- Model Training (Deliverable) ---\n",
        "nb_model = MultinomialNB()\n",
        "nb_model.fit(X_train_tfidf, y_train)\n",
        "print(\"1. Naive Bayes Model Trained.\")\n",
        "\n",
        "lr_model = LogisticRegression(C=10, solver='liblinear', random_state=42)\n",
        "lr_model.fit(X_train_tfidf, y_train)\n",
        "print(\"2. Logistic Regression Model Trained.\")"
      ]
    },
    {
      "cell_type": "code",
      "execution_count": 27,
      "metadata": {
        "colab": {
          "base_uri": "https://localhost:8080/",
          "height": 626
        },
        "id": "7wotiJUDPyGA",
        "outputId": "0f6acea0-d690-4ecb-be23-0127c9043a77"
      },
      "outputs": [
        {
          "name": "stdout",
          "output_type": "stream",
          "text": [
            "\n",
            "--- 4. Evaluation ---\n",
            "\n",
            "--- Model Comparison Table ---\n",
            "| Model               |   Accuracy |   Precision |   Recall |   F1-score |\n",
            "|:--------------------|-----------:|------------:|---------:|-----------:|\n",
            "| Logistic Regression |   0.971631 |    0.969136 | 0.80102  |   0.877095 |\n",
            "| Naive Bayes         |   0.958736 |    1        | 0.673469 |   0.804878 |\n"
          ]
        },
        {
          "data": {
            "image/png": "[encoded data removed]",
            "text/plain": [
              "<Figure size 600x500 with 2 Axes>"
            ]
          },
          "metadata": {},
          "output_type": "display_data"
        }
      ],
      "source": [
        "#Evaluation and REporting\n",
        "from sklearn.metrics import accuracy_score, precision_score, recall_score, f1_score, confusion_matrix\n",
        "import matplotlib.pyplot as plt\n",
        "import seaborn as sns\n",
        "import pandas as pd # Needed here for the results DataFrame\n",
        "\n",
        "def evaluate_model(model, X_test_features, y_true, model_name):\n",
        "    y_pred = model.predict(X_test_features)\n",
        "    metrics = {\n",
        "        'Model': model_name,\n",
        "        'Accuracy': accuracy_score(y_true, y_pred),\n",
        "        'Precision': precision_score(y_true, y_pred),\n",
        "        'Recall': recall_score(y_true, y_pred),\n",
        "        'F1-score': f1_score(y_true, y_pred)\n",
        "    }\n",
        "    return y_pred, metrics\n",
        "\n",
        "print(\"\\n--- 4. Evaluation ---\")\n",
        "\n",
        "# Evaluate and compare models\n",
        "nb_pred, nb_metrics = evaluate_model(nb_model, X_test_tfidf, y_test, \"Naive Bayes\")\n",
        "lr_pred, lr_metrics = evaluate_model(lr_model, X_test_tfidf, y_test, \"Logistic Regression\")\n",
        "results_df = pd.DataFrame([nb_metrics, lr_metrics])\n",
        "\n",
        "print(\"\\n--- Model Comparison Table ---\")\n",
        "print(results_df.sort_values(by='F1-score', ascending=False).to_markdown(index=False))\n",
        "\n",
        "# --- Visualization: Confusion Matrix (Deliverable: Using the Logistic Regression model) ---\n",
        "cm = confusion_matrix(y_test, lr_pred)\n",
        "plt.figure(figsize=(6, 5))\n",
        "sns.heatmap(cm, annot=True, fmt='d', cmap='Blues',\n",
        "            xticklabels=['Ham', 'Spam'], yticklabels=['Ham', 'Spam'])\n",
        "plt.title('Confusion Matrix: Logistic Regression')\n",
        "plt.ylabel('Actual Label')\n",
        "plt.xlabel('Predicted Label')\n",
        "plt.show()"
      ]
    },
    {
      "cell_type": "code",
      "execution_count": 28,
      "metadata": {
        "colab": {
          "base_uri": "https://localhost:8080/"
        },
        "id": "uyumgLO9PyHY",
        "outputId": "c8741a7a-2b1e-487d-aa25-7237cdff1fbe"
      },
      "outputs": [
        {
          "name": "stdout",
          "output_type": "stream",
          "text": [
            "\n",
            "--- 5. Reusable Script Test ---\n",
            "Message: 'Congratulations! Click here to claim you...' -> Prediction: SPAM\n",
            "Message: 'Did you remember to bring the documents ...' -> Prediction: HAM\n",
            "\n",
            "✅ Project Complete! Model and Vectorizer saved.\n"
          ]
        }
      ],
      "source": [
        "#Reusable script and saving\n",
        "import joblib\n",
        "\n",
        "def predict_message(message, vectorizer, model):\n",
        "    \"\"\"Processes a raw message and predicts if it's spam or ham.\"\"\"\n",
        "    # Uses the preprocess_text function defined in Cell 1\n",
        "    clean_msg = preprocess_text(message)\n",
        "    msg_features = vectorizer.transform([clean_msg])\n",
        "    prediction = model.predict(msg_features)[0]\n",
        "    return \"SPAM\" if prediction == 1 else \"HAM\"\n",
        "\n",
        "# --- Test Pipeline ---\n",
        "print(\"\\n--- 5. Reusable Script Test ---\")\n",
        "sample_messages = [\n",
        "    \"Congratulations! Click here to claim your cash prize!\", # Spam\n",
        "    \"Did you remember to bring the documents for our meeting?\", # Ham\n",
        "]\n",
        "for msg in sample_messages:\n",
        "    prediction = predict_message(msg, tfidf_vectorizer, lr_model)\n",
        "    print(f\"Message: '{msg[:40]}...' -> Prediction: {prediction}\")\n",
        "\n",
        "# --- Save trained models for future use (Deliverable) ---\n",
        "joblib.dump(lr_model, 'best_spam_detector_model.pkl')\n",
        "joblib.dump(tfidf_vectorizer, 'tfidf_vectorizer.pkl')\n",
        "\n",
        "print(\"\\n✅ Project Complete! Model and Vectorizer saved.\")"
      ]
    }
  ],
  "metadata": {
    "colab": {
      "provenance": []
    },
    "kernelspec": {
      "display_name": "Python 3",
      "name": "python3"
    },
    "language_info": {
      "name": "python"
    }
  },
  "nbformat": 4,
  "nbformat_minor": 0
}
