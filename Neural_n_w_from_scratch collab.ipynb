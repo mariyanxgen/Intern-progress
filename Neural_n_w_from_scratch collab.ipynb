{
  "cells": [
    {
      "cell_type": "code",
      "execution_count": 1,
      "metadata": {
        "id": "fSOqUdnsOvFU"
      },
      "outputs": [],
      "source": [
        "import numpy as np\n",
        "\n",
        "# Define XOR input and output data\n",
        "X = np.array([[0, 0], [0, 1], [1, 0], [1, 1]])\n",
        "Y = np.array([[0], [1], [1], [0]])"
      ]
    },
    {
      "cell_type": "code",
      "execution_count": 3,
      "metadata": {
        "id": "8RZhxpHGQXbg"
      },
      "outputs": [],
      "source": [
        "#Initialize weight and Bias\n",
        "# Hyperparameters\n",
        "input_size = 2\n",
        "hidden_size = 4  # A common choice for this problem\n",
        "output_size = 1\n",
        "learning_rate = 0.1\n",
        "epochs = 60000\n",
        "\n",
        "# Initialize weights and biases randomly\n",
        "# Weights from input to hidden layer (W1) and biases (b1)\n",
        "W1 = np.random.randn(input_size, hidden_size)\n",
        "b1 = np.zeros((1, hidden_size))\n",
        "# Weights from hidden to output layer (W2) and biases (b2)\n",
        "W2 = np.random.randn(hidden_size, output_size)\n",
        "b2 = np.zeros((1, output_size))\n",
        "\n",
        "# Activation function and its derivative\n",
        "def sigmoid(x):\n",
        "    return 1 / (1 + np.exp(-x))\n",
        "\n",
        "def sigmoid_derivative(x):\n",
        "    return x * (1 - x)"
      ]
    },
    {
      "cell_type": "code",
      "execution_count": 4,
      "metadata": {
        "id": "JEkV5keRRGyk"
      },
      "outputs": [],
      "source": [
        "def forward_pass(X):\n",
        "    # Hidden layer calculation\n",
        "    Z1 = np.dot(X, W1) + b1\n",
        "    A1 = sigmoid(Z1)\n",
        "\n",
        "    # Output layer calculation\n",
        "    Z2 = np.dot(A1, W2) + b2\n",
        "    A2 = sigmoid(Z2)\n",
        "    return A1, A2"
      ]
    },
    {
      "cell_type": "code",
      "execution_count": 5,
      "metadata": {
        "colab": {
          "base_uri": "https://localhost:8080/"
        },
        "id": "7zQuIfImRKHh",
        "outputId": "9962d23f-9371-4f91-bffb-0f0da4eff6d7"
      },
      "outputs": [
        {
          "name": "stdout",
          "output_type": "stream",
          "text": [
            "Epoch 0, Loss: 0.315488\n",
            "Epoch 5000, Loss: 0.005612\n",
            "Epoch 10000, Loss: 0.001782\n",
            "Epoch 15000, Loss: 0.001027\n",
            "Epoch 20000, Loss: 0.000715\n",
            "Epoch 25000, Loss: 0.000546\n",
            "Epoch 30000, Loss: 0.000440\n",
            "Epoch 35000, Loss: 0.000368\n",
            "Epoch 40000, Loss: 0.000316\n",
            "Epoch 45000, Loss: 0.000277\n",
            "Epoch 50000, Loss: 0.000246\n",
            "Epoch 55000, Loss: 0.000222\n"
          ]
        }
      ],
      "source": [
        "losses = []  # To track the loss reduction\n",
        "\n",
        "for i in range(epochs):\n",
        "    # Forward Pass\n",
        "    A1, A2 = forward_pass(X)\n",
        "\n",
        "    # Calculate Loss (Mean Squared Error)\n",
        "    loss = np.mean((A2 - Y) ** 2)\n",
        "    losses.append(loss)\n",
        "\n",
        "    # Backpropagation\n",
        "    # Output layer\n",
        "    dZ2 = (A2 - Y) * sigmoid_derivative(A2)\n",
        "    dW2 = np.dot(A1.T, dZ2)\n",
        "    db2 = np.sum(dZ2, axis=0, keepdims=True)\n",
        "\n",
        "    # Hidden layer\n",
        "    dZ1 = np.dot(dZ2, W2.T) * sigmoid_derivative(A1)\n",
        "    dW1 = np.dot(X.T, dZ1)\n",
        "    db1 = np.sum(dZ1, axis=0, keepdims=True)\n",
        "\n",
        "    # Update weights and biases\n",
        "    W1 -= learning_rate * dW1\n",
        "    b1 -= learning_rate * db1\n",
        "    W2 -= learning_rate * dW2\n",
        "    b2 -= learning_rate * db2\n",
        "\n",
        "    # Print loss every 5000 epochs to verify it's decreasing\n",
        "    if i % 5000 == 0:\n",
        "        print(f\"Epoch {i}, Loss: {loss:.6f}\")"
      ]
    },
    {
      "cell_type": "code",
      "execution_count": 6,
      "metadata": {
        "colab": {
          "base_uri": "https://localhost:8080/"
        },
        "id": "LDSNiLwJRPU5",
        "outputId": "98fa9cb6-7c4a-4866-8bc5-2f09277f03b2"
      },
      "outputs": [
        {
          "name": "stdout",
          "output_type": "stream",
          "text": [
            "\n",
            "Final Predictions:\n",
            "Inputs:\n",
            "[[0 0]\n",
            " [0 1]\n",
            " [1 0]\n",
            " [1 1]]\n",
            "Expected Outputs:\n",
            "[[0]\n",
            " [1]\n",
            " [1]\n",
            " [0]]\n",
            "Predicted Outputs:\n",
            "[[0.]\n",
            " [1.]\n",
            " [1.]\n",
            " [0.]]\n",
            "\n",
            "Model correctly classifies all XOR inputs: True\n"
          ]
        }
      ],
      "source": [
        "# Final forward pass to test the model\n",
        "_, A2 = forward_pass(X)\n",
        "predictions = np.round(A2)\n",
        "\n",
        "print(\"\\nFinal Predictions:\")\n",
        "print(f\"Inputs:\\n{X}\")\n",
        "print(f\"Expected Outputs:\\n{Y}\")\n",
        "print(f\"Predicted Outputs:\\n{predictions}\")\n",
        "\n",
        "# Check for correct classification\n",
        "correct_predictions = (predictions == Y).all()\n",
        "print(f\"\\nModel correctly classifies all XOR inputs: {correct_predictions}\")"
      ]
    }
  ],
  "metadata": {
    "colab": {
      "provenance": []
    },
    "kernelspec": {
      "display_name": "Python 3",
      "name": "python3"
    },
    "language_info": {
      "name": "python"
    }
  },
  "nbformat": 4,
  "nbformat_minor": 0
}
