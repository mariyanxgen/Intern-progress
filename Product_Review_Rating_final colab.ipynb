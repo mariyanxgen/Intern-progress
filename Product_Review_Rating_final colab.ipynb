{
  "cells": [
    {
      "cell_type": "code",
      "execution_count": 3,
      "metadata": {
        "colab": {
          "base_uri": "https://localhost:8080/"
        },
        "id": "VLobTlLhrxpl",
        "outputId": "e1590983-9cc6-4c2e-c42f-8cce19360b9f"
      },
      "outputs": [
        {
          "name": "stdout",
          "output_type": "stream",
          "text": [
            "Checking for NLTK resources...\n",
            "NLTK resources not found. Downloading...\n",
            "Downloads complete.\n",
            "Initial size: 10\n",
            "Size after cleaning: 10\n",
            "\n",
            "Rating Count Check:\n",
            "rating\n",
            "1    2\n",
            "2    2\n",
            "4    3\n",
            "5    3\n",
            "Name: count, dtype: int64\n"
          ]
        },
        {
          "name": "stderr",
          "output_type": "stream",
          "text": [
            "[nltk_data] Downloading package stopwords to /root/nltk_data...\n",
            "[nltk_data]   Package stopwords is already up-to-date!\n",
            "[nltk_data] Downloading package wordnet to /root/nltk_data...\n",
            "[nltk_data]   Package wordnet is already up-to-date!\n"
          ]
        }
      ],
      "source": [
        "# --- 1. SETUP AND LIBRARIES (Keep this the same) ---\n",
        "import pandas as pd\n",
        "import numpy as np\n",
        "import re\n",
        "import joblib\n",
        "import matplotlib.pyplot as plt\n",
        "import seaborn as sns\n",
        "import nltk\n",
        "from nltk.corpus import stopwords\n",
        "from nltk.stem import WordNetLemmatizer\n",
        "from sklearn.model_selection import train_test_split\n",
        "from sklearn.feature_extraction.text import TfidfVectorizer\n",
        "from sklearn.linear_model import LogisticRegression\n",
        "from sklearn.svm import LinearSVC\n",
        "from sklearn.ensemble import RandomForestClassifier\n",
        "from sklearn.metrics import accuracy_score, classification_report, confusion_matrix\n",
        "\n",
        "# --- NLTK DOWNLOAD FIX (Keep this the same) ---\n",
        "print(\"Checking for NLTK resources...\")\n",
        "try:\n",
        "    nltk.data.find('corpora/stopwords')\n",
        "    nltk.data.find('corpora/wordnet')\n",
        "    print(\"NLTK resources found.\")\n",
        "except LookupError:\n",
        "    print(\"NLTK resources not found. Downloading...\")\n",
        "    nltk.download('stopwords')\n",
        "    nltk.download('wordnet')\n",
        "    print(\"Downloads complete.\")\n",
        "\n",
        "# Initialize NLTK objects\n",
        "stop_words = set(stopwords.words('english'))\n",
        "lemmatizer = WordNetLemmatizer()\n",
        "\n",
        "\n",
        "# --- MODIFIED PLACEHOLDER DATA (N=10) ---\n",
        "# MODIFICATION: Changed the 3-star review to be 4-star (Rating 3 is now gone)\n",
        "data = {\n",
        "    'review_text': [\n",
        "        \"This product is absolutely amazing, definitely worth the price.\",  # 5\n",
        "        \"It was okay, nothing special, but it works fine.\",                   # 4 (MODIFIED FROM 3)\n",
        "        \"Absolutely terrible, broke after one use. A total scam!\",           # 1\n",
        "        \"Love the features, highly recommended!\",                           # 5\n",
        "        \"Mediocre performance and poor customer service.\",                  # 2\n",
        "        \"The item is great and very durable. Five stars!\",                  # 5\n",
        "        \"Disappointing quality, expected much better, but it's usable.\",    # 2\n",
        "        \"Worst thing I ever bought, total waste.\",                          # 1\n",
        "        \"It's decent, does the job, nothing to complain about.\",            # 4\n",
        "        \"Very good quality, arrived on time, satisfied customer.\",          # 4\n",
        "    ],\n",
        "    'rating': [5, 4, 1, 5, 2, 5, 2, 1, 4, 4]\n",
        "}\n",
        "df = pd.DataFrame(data)\n",
        "\n",
        "print(f\"Initial size: {len(df)}\")\n",
        "df.dropna(subset=['review_text', 'rating'], inplace=True)\n",
        "df.drop_duplicates(inplace=True)\n",
        "print(f\"Size after cleaning: {len(df)}\")\n",
        "\n",
        "# Rating Distribution Check: Should now only have 4 classes (1, 2, 4, 5), all with >= 2 samples.\n",
        "print(\"\\nRating Count Check:\")\n",
        "print(df['rating'].value_counts().sort_index())"
      ]
    },
    {
      "cell_type": "code",
      "execution_count": 5,
      "metadata": {
        "colab": {
          "base_uri": "https://localhost:8080/"
        },
        "id": "X6Da3oSYsIxn",
        "outputId": "80f90383-d1ad-46d2-ea21-fb8bf7a467b0"
      },
      "outputs": [
        {
          "name": "stdout",
          "output_type": "stream",
          "text": [
            "\n",
            "TF-IDF Matrix shape: (10, 50)\n",
            "Train set size: 8\n",
            "Test set size: 2\n"
          ]
        }
      ],
      "source": [
        "# --- TEXT CLEANING & FEATURE EXTRACTION (Same as before) ---\n",
        "def clean_text(text):\n",
        "    if pd.isna(text): return \"\"\n",
        "    text = str(text).lower()\n",
        "    text = re.sub(r'[^a-z\\s]', '', text)\n",
        "    words = text.split()\n",
        "    words = [w for w in words if w not in stop_words]\n",
        "    words = [lemmatizer.lemmatize(w) for w in words]\n",
        "    return \" \".join(words)\n",
        "\n",
        "df['cleaned_text'] = df['review_text'].apply(clean_text)\n",
        "\n",
        "X = df['cleaned_text']\n",
        "y = df['rating']\n",
        "\n",
        "tfidf_vectorizer = TfidfVectorizer(ngram_range=(1, 2), max_features=50)\n",
        "X_tfidf = tfidf_vectorizer.fit_transform(X)\n",
        "print(f\"\\nTF-IDF Matrix shape: {X_tfidf.shape}\")\n",
        "\n",
        "# --- SIMPLIFIED SPLIT: ONLY TRAIN (80%) and TEST (20%) ---\n",
        "# Removing the Validation set and maximizing the training set size.\n",
        "# --- SIMPLIFIED SPLIT: ONLY TRAIN (80%) and TEST (20%) ---\n",
        "# We MUST remove stratify=y because the test size (2) is less than the number of classes (4).\n",
        "\n",
        "X_train, X_test, y_train, y_test = train_test_split(\n",
        "    X_tfidf, y, test_size=0.20, random_state=42 # 🚨 stratify=y has been removed!\n",
        ")\n",
        "\n",
        "print(f\"Train set size: {X_train.shape[0]}\")\n",
        "print(f\"Test set size: {X_test.shape[0]}\")\n",
        "\n",
        "# Proceed to Model Training and Evaluation...\n",
        "\n",
        "# You can now proceed to Model Training and Evaluation using X_train and X_test."
      ]
    },
    {
      "cell_type": "code",
      "execution_count": 6,
      "metadata": {
        "colab": {
          "base_uri": "https://localhost:8080/",
          "height": 733
        },
        "id": "LfOc6_RDsN-B",
        "outputId": "06abfe6f-3507-4ab0-aa4e-f7a80980570e"
      },
      "outputs": [
        {
          "name": "stdout",
          "output_type": "stream",
          "text": [
            "\n",
            "--- Starting Model Training and Evaluation ---\n",
            "Logistic Regression completed.\n",
            "SVM (LinearSVC) completed.\n",
            "Random Forest completed.\n",
            "\n",
            "--- Model Performance Summary (on Test Set) ---\n",
            "                     Accuracy  F1-Score (Macro)\n",
            "Logistic Regression       0.0               0.0\n",
            "SVM (LinearSVC)           0.0               0.0\n",
            "Random Forest             0.0               0.0\n"
          ]
        },
        {
          "name": "stderr",
          "output_type": "stream",
          "text": [
            "/usr/local/lib/python3.12/dist-packages/sklearn/linear_model/_logistic.py:1247: FutureWarning: 'multi_class' was deprecated in version 1.5 and will be removed in 1.7. From then on, it will always use 'multinomial'. Leave it to its default value to avoid this warning.\n",
            "  warnings.warn(\n"
          ]
        },
        {
          "data": {
            "image/png": "[encoded data removed]",
            "text/plain": [
              "<Figure size 600x500 with 2 Axes>"
            ]
          },
          "metadata": {},
          "output_type": "display_data"
        }
      ],
      "source": [
        "#3. Model Training and Evaluation (Deliverable)\n",
        "# --- MODEL TRAINING ---\n",
        "log_reg = LogisticRegression(solver='liblinear', multi_class='auto', max_iter=1000, random_state=42)\n",
        "svc = LinearSVC(random_state=42, max_iter=1000)\n",
        "rf = RandomForestClassifier(n_estimators=10, random_state=42, n_jobs=-1) # Reduced n_estimators due to small data\n",
        "\n",
        "models = {'Logistic Regression': log_reg, 'SVM (LinearSVC)': svc, 'Random Forest': rf}\n",
        "results = {}\n",
        "\n",
        "print(\"\\n--- Starting Model Training and Evaluation ---\")\n",
        "for name, model in models.items():\n",
        "    model.fit(X_train, y_train)\n",
        "    y_pred = model.predict(X_test)\n",
        "\n",
        "    report = classification_report(y_test, y_pred, zero_division=0, output_dict=True)\n",
        "\n",
        "    results[name] = {\n",
        "        'Accuracy': accuracy_score(y_test, y_pred),\n",
        "        'F1-Score (Macro)': report['macro avg']['f1-score'],\n",
        "    }\n",
        "    print(f\"{name} completed.\")\n",
        "\n",
        "# --- SUMMARY TABLE (Deliverable) ---\n",
        "results_df = pd.DataFrame(results).T\n",
        "print(\"\\n--- Model Performance Summary (on Test Set) ---\")\n",
        "print(results_df.round(4))\n",
        "\n",
        "# --- CONFUSION MATRIX (Deliverable) ---\n",
        "best_model_name = results_df['F1-Score (Macro)'].idxmax()\n",
        "best_model = models[best_model_name]\n",
        "y_pred_best = best_model.predict(X_test)\n",
        "cm = confusion_matrix(y_test, y_pred_best)\n",
        "\n",
        "plt.figure(figsize=(6, 5))\n",
        "sns.heatmap(cm, annot=True, fmt='d', cmap='Blues',\n",
        "            xticklabels=sorted(y_test.unique()),\n",
        "            yticklabels=sorted(y_test.unique()))\n",
        "plt.title(f'Confusion Matrix for {best_model_name}')\n",
        "plt.ylabel('True Rating')\n",
        "plt.xlabel('Predicted Rating')\n",
        "plt.show()"
      ]
    },
    {
      "cell_type": "code",
      "execution_count": 8,
      "metadata": {
        "colab": {
          "base_uri": "https://localhost:8080/"
        },
        "id": "3pLyt16lsSJ5",
        "outputId": "9543445c-e36a-453e-c8eb-9fb6b6626e40"
      },
      "outputs": [
        {
          "name": "stdout",
          "output_type": "stream",
          "text": [
            "\n",
            "--- Top 5 Positive and Negative Features (Logistic Regression) ---\n",
            "Top 5 Positive (High Rating):\n",
            " [(np.float64(0.19605983107507433), 'definitely worth'), (np.float64(0.19605983107507433), 'definitely'), (np.float64(0.19605983107507433), 'amazing definitely'), (np.float64(0.19605983107507433), 'amazing'), (np.float64(0.19605983107507433), 'absolutely amazing')]\n",
            "\n",
            "Top 5 Negative (Low Rating):\n",
            " [(np.float64(-0.20238693611757255), 'mediocre performance'), (np.float64(-0.20238693611757255), 'mediocre'), (np.float64(-0.22262588119871077), 'quality'), (np.float64(-0.27133814580284893), 'total'), (np.float64(-0.29112692492404746), 'customer')]\n",
            "\n",
            "Final Model and TF-IDF Vectorizer saved to disk.\n",
            "\n",
            "Review: 'The battery life is excellent and it arrived quickly. I'd buy this again!'\n",
            "Predicted Rating: 5 star(s)\n",
            "\n",
            "Review: 'This is simply the worst product I have ever purchased. Broken and useless.'\n",
            "Predicted Rating: 1 star(s)\n"
          ]
        }
      ],
      "source": [
        "#4. Error Analysis, Saving, and Prediction (Deliverable)\n",
        "# --- ERROR ANALYSIS (Example Feature Importance for LogReg) ---\n",
        "# --- ERROR ANALYSIS (Example Feature Importance for LogReg) ---\n",
        "feature_names = tfidf_vectorizer.get_feature_names_out()\n",
        "if 'Logistic Regression' in models:\n",
        "    # Use the coefficients for the 5-star class to find important features\n",
        "    # Change index 4 to 3 because we only have 4 classes now (1, 2, 4, 5)\n",
        "    log_reg_coeffs = models['Logistic Regression'].coef_[3] # 🌟 CORRECTED: Index 3 is now 5-star\n",
        "\n",
        "    sorted_features = sorted(zip(log_reg_coeffs, feature_names), reverse=True)\n",
        "\n",
        "    print(\"\\n--- Top 5 Positive and Negative Features (Logistic Regression) ---\")\n",
        "    print(\"Top 5 Positive (High Rating):\\n\", sorted_features[:5])\n",
        "    print(\"\\nTop 5 Negative (Low Rating):\\n\", sorted_features[-5:])\n",
        "\n",
        "# Continue with Model Saving and Prediction...\n",
        "\n",
        "# --- MODEL SAVING (Deliverable) ---\n",
        "final_model = models[best_model_name]\n",
        "joblib.dump(final_model, 'final_rating_predictor.joblib')\n",
        "joblib.dump(tfidf_vectorizer, 'tfidf_vectorizer.joblib')\n",
        "print(\"\\nFinal Model and TF-IDF Vectorizer saved to disk.\")\n",
        "\n",
        "# --- PREDICTION FUNCTION (Deliverable) ---\n",
        "def predict_rating(review_text):\n",
        "    cleaned_text = clean_text(review_text)\n",
        "    text_vectorized = tfidf_vectorizer.transform([cleaned_text])\n",
        "    predicted_rating = final_model.predict(text_vectorized)[0]\n",
        "    return predicted_rating\n",
        "\n",
        "# Example Predictions\n",
        "review_1 = \"The battery life is excellent and it arrived quickly. I'd buy this again!\"\n",
        "review_2 = \"This is simply the worst product I have ever purchased. Broken and useless.\"\n",
        "\n",
        "print(f\"\\nReview: '{review_1}'\\nPredicted Rating: {predict_rating(review_1)} star(s)\")\n",
        "print(f\"\\nReview: '{review_2}'\\nPredicted Rating: {predict_rating(review_2)} star(s)\")\n",
        "\n",
        "# --- You now have all the output necessary to write your final report! ---"
      ]
    },
    {
      "cell_type": "code",
      "execution_count": null,
      "metadata": {
        "id": "t-rYADvlsVwD"
      },
      "outputs": [],
      "source": []
    },
    {
      "cell_type": "code",
      "execution_count": null,
      "metadata": {
        "id": "Z7NWpx9JsVxr"
      },
      "outputs": [],
      "source": []
    }
  ],
  "metadata": {
    "colab": {
      "provenance": []
    },
    "kernelspec": {
      "display_name": "Python 3",
      "name": "python3"
    },
    "language_info": {
      "name": "python"
    }
  },
  "nbformat": 4,
  "nbformat_minor": 0
}
