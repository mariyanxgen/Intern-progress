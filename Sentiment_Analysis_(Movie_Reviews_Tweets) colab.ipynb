{
  "cells": [
    {
      "cell_type": "code",
      "execution_count": 1,
      "metadata": {
        "colab": {
          "base_uri": "https://localhost:8080/"
        },
        "id": "mUPwpXP2ddBN",
        "outputId": "d6b4e312-d50e-4370-85f2-8fe71c9c3e9b"
      },
      "outputs": [
        {
          "name": "stdout",
          "output_type": "stream",
          "text": [
            "IMDb_Reviews.csv not found. Using a small synthetic dataset.\n",
            "Dataset Loaded. Total rows: 5\n"
          ]
        },
        {
          "name": "stderr",
          "output_type": "stream",
          "text": [
            "/tmp/ipython-input-3046574031.py:39: FutureWarning: Downcasting behavior in `replace` is deprecated and will be removed in a future version. To retain the old behavior, explicitly call `result.infer_objects(copy=False)`. To opt-in to the future behavior, set `pd.set_option('future.no_silent_downcasting', True)`\n",
            "  df['sentiment'] = df['sentiment'].replace({'positive': 1, 'negative': 0})\n"
          ]
        }
      ],
      "source": [
        "#Setup and Data Loading\n",
        "import pandas as pd\n",
        "import numpy as np\n",
        "import re\n",
        "import nltk\n",
        "from nltk.corpus import stopwords\n",
        "from nltk.stem import WordNetLemmatizer\n",
        "from sklearn.model_selection import train_test_split\n",
        "from sklearn.feature_extraction.text import TfidfVectorizer\n",
        "from sklearn.linear_model import LogisticRegression\n",
        "from sklearn.ensemble import RandomForestClassifier\n",
        "from sklearn.metrics import classification_report, confusion_matrix, accuracy_score, precision_score, recall_score, f1_score\n",
        "from sklearn.pipeline import Pipeline\n",
        "import matplotlib.pyplot as plt\n",
        "import seaborn as sns\n",
        "import joblib # For saving models\n",
        "\n",
        " #Download necessary NLTK components (run once)\n",
        "nltk.download('punkt', quiet=True)\n",
        "nltk.download('stopwords', quiet=True)\n",
        "nltk.download('wordnet', quiet=True)\n",
        "\n",
        "# --- CHECKLIST: Load dataset ---\n",
        "# ASSUMPTION: The dataset is a CSV with 'review' (text) and 'sentiment' (positive/negative) columns.\n",
        "try:\n",
        "    df = pd.read_csv('IMDb_Reviews.csv')\n",
        "except FileNotFoundError:\n",
        "    # Fallback: Create a small synthetic dataset for demonstration if the file is missing\n",
        "    print(\"IMDb_Reviews.csv not found. Using a small synthetic dataset.\")\n",
        "    data = {'review': [\"The film was absolutely fantastic and a joy to watch!\",\n",
        "                       \"Terrible acting, boring plot, I wasted 2 hours.\",\n",
        "                       \"It's okay, not great, but I liked the ending.\",\n",
        "                       \"A masterpiece of cinema, truly brilliant.\",\n",
        "                       \"Worst movie I've seen all year. Skip it.\"],\n",
        "            'sentiment': [\"positive\", \"negative\", \"positive\", \"positive\", \"negative\"]}\n",
        "    df = pd.DataFrame(data)\n",
        "\n",
        "# Convert sentiment to 0 (negative) and 1 (positive)\n",
        "df['sentiment'] = df['sentiment'].replace({'positive': 1, 'negative': 0})\n",
        "print(f\"Dataset Loaded. Total rows: {len(df)}\")\n"
      ]
    },
    {
      "cell_type": "code",
      "execution_count": 3,
      "metadata": {
        "colab": {
          "base_uri": "https://localhost:8080/"
        },
        "id": "Y88bSUtre8JL",
        "outputId": "414db8c9-b768-4f17-b07c-4177e111c51f"
      },
      "outputs": [
        {
          "name": "stderr",
          "output_type": "stream",
          "text": [
            "[nltk_data] Downloading package punkt to /root/nltk_data...\n",
            "[nltk_data]   Package punkt is already up-to-date!\n",
            "[nltk_data] Downloading package stopwords to /root/nltk_data...\n",
            "[nltk_data]   Package stopwords is already up-to-date!\n",
            "[nltk_data] Downloading package wordnet to /root/nltk_data...\n",
            "[nltk_data]   Package wordnet is already up-to-date!\n",
            "[nltk_data] Downloading package punkt_tab to /root/nltk_data...\n",
            "[nltk_data]   Unzipping tokenizers/punkt_tab.zip.\n"
          ]
        },
        {
          "data": {
            "text/plain": [
              "True"
            ]
          },
          "execution_count": 3,
          "metadata": {},
          "output_type": "execute_result"
        }
      ],
      "source": [
        "import nltk\n",
        "# Run the downloads again, but without 'quiet=True' to see any output\n",
        "nltk.download('punkt')\n",
        "nltk.download('stopwords')\n",
        "nltk.download('wordnet')\n",
        "\n",
        "# Run the specific resource download mentioned in the error:\n",
        "# This directly addresses the missing resource NLTK reported.\n",
        "# Note: If this fails, you may need to run nltk.download('all')\n",
        "nltk.download('punkt_tab')"
      ]
    },
    {
      "cell_type": "code",
      "execution_count": 4,
      "metadata": {
        "colab": {
          "base_uri": "https://localhost:8080/",
          "height": 896
        },
        "id": "a9ZP50PBd_7v",
        "outputId": "1af3b3f0-8e11-4b3e-cdd5-a85a4c0af34c"
      },
      "outputs": [
        {
          "name": "stdout",
          "output_type": "stream",
          "text": [
            "\n",
            "--- Dataset Info ---\n",
            "<class 'pandas.core.frame.DataFrame'>\n",
            "RangeIndex: 5 entries, 0 to 4\n",
            "Data columns (total 2 columns):\n",
            " #   Column     Non-Null Count  Dtype \n",
            "---  ------     --------------  ----- \n",
            " 0   review     5 non-null      object\n",
            " 1   sentiment  5 non-null      int64 \n",
            "dtypes: int64(1), object(1)\n",
            "memory usage: 212.0+ bytes\n",
            "\n",
            "--- Class Distribution (0=Negative, 1=Positive) ---\n",
            "sentiment\n",
            "1    3\n",
            "0    2\n",
            "Name: count, dtype: int64\n"
          ]
        },
        {
          "data": {
            "image/png": "[encoded data removed]",
            "text/plain": [
              "<Figure size 600x400 with 1 Axes>"
            ]
          },
          "metadata": {},
          "output_type": "display_data"
        },
        {
          "name": "stdout",
          "output_type": "stream",
          "text": [
            "\n",
            "After Cleaning: Total rows: 5\n",
            "\n",
            "--- Example Cleaned Review ---\n",
            "                                              review  \\\n",
            "0  The film was absolutely fantastic and a joy to...   \n",
            "1    Terrible acting, boring plot, I wasted 2 hours.   \n",
            "\n",
            "                            cleaned_review  \n",
            "0      film absolutely fantastic joy watch  \n",
            "1  terrible acting boring plot wasted hour  \n"
          ]
        }
      ],
      "source": [
        "# Data Preparation & Cleaning\n",
        "# --- CHECKLIST: Inspect dataset structure and class distribution ---\n",
        "print(\"\\n--- Dataset Info ---\")\n",
        "df.info()\n",
        "\n",
        "print(\"\\n--- Class Distribution (0=Negative, 1=Positive) ---\")\n",
        "print(df['sentiment'].value_counts())\n",
        "\n",
        "# --- DELIVERABLE: Distribution Visualization ---\n",
        "plt.figure(figsize=(6, 4))\n",
        "sns.countplot(x='sentiment', data=df)\n",
        "plt.title('Distribution of Positive vs. Negative Reviews')\n",
        "plt.xlabel('Sentiment (0=Negative, 1=Positive)')\n",
        "plt.ylabel('Count')\n",
        "plt.show() #\n",
        "\n",
        "# --- CHECKLIST: Handle missing or duplicate entries ---\n",
        "df.dropna(inplace=True)\n",
        "df.drop_duplicates(inplace=True)\n",
        "print(f\"\\nAfter Cleaning: Total rows: {len(df)}\")\n",
        "\n",
        "\n",
        "# --- CHECKLIST: Preprocess text function ---\n",
        "lemmatizer = WordNetLemmatizer()\n",
        "stop_words = set(stopwords.words('english'))\n",
        "\n",
        "def preprocess_text(text):\n",
        "    # 1. Convert to lowercase\n",
        "    text = text.lower()\n",
        "\n",
        "    # 2. Remove HTML tags (common in reviews)\n",
        "    text = re.sub(r'<.*?>', '', text)\n",
        "\n",
        "    # 3. Remove punctuation & special characters (keep words and spaces)\n",
        "    text = re.sub(r'[^a-z\\s]', '', text)\n",
        "\n",
        "    # 4. Tokenize text & Remove numbers (already handled by regex if we only kept a-z)\n",
        "    tokens = nltk.word_tokenize(text)\n",
        "\n",
        "    # 5. Remove stopwords & Apply stemming/lemmatization\n",
        "    processed_tokens = [lemmatizer.lemmatize(w) for w in tokens if w not in stop_words]\n",
        "\n",
        "    return \" \".join(processed_tokens)\n",
        "\n",
        "# Apply preprocessing\n",
        "df['cleaned_review'] = df['review'].apply(preprocess_text)\n",
        "print(\"\\n--- Example Cleaned Review ---\")\n",
        "print(df[['review', 'cleaned_review']].head(2))"
      ]
    },
    {
      "cell_type": "code",
      "execution_count": 5,
      "metadata": {
        "colab": {
          "base_uri": "https://localhost:8080/"
        },
        "id": "YOQilE5CeFfH",
        "outputId": "d184f82e-aebd-454f-c124-d98ef24d39c2"
      },
      "outputs": [
        {
          "name": "stdout",
          "output_type": "stream",
          "text": [
            "\n",
            "Training set size: 3 | Test set size: 2\n"
          ]
        }
      ],
      "source": [
        "#Feature Extraction & Data Splitting\n",
        "# Separate features (X) and target (y)\n",
        "X = df['cleaned_review']\n",
        "y = df['sentiment']\n",
        "\n",
        "# --- CHECKLIST: Split dataset into train/test sets (70%/30%) ---\n",
        "X_train, X_test, y_train, y_test = train_test_split(\n",
        "    X, y, test_size=0.3, random_state=42, stratify=y\n",
        ")\n",
        "print(f\"\\nTraining set size: {len(X_train)} | Test set size: {len(X_test)}\")\n",
        "\n",
        "# --- CHECKLIST: Convert text to numerical features: TF-IDF ---\n",
        "# TF-IDF (Term Frequency-Inverse Document Frequency) is chosen for better performance.\n",
        "tfidf_vectorizer = TfidfVectorizer(max_features=5000) # Limit features to top 5000 for efficiency\n",
        "\n",
        "# Fit and transform the training data\n",
        "X_train_tfidf = tfidf_vectorizer.fit_transform(X_train)\n",
        "\n",
        "# Transform (but DON'T fit) the test data\n",
        "X_test_tfidf = tfidf_vectorizer.transform(X_test)"
      ]
    },
    {
      "cell_type": "code",
      "execution_count": 6,
      "metadata": {
        "colab": {
          "base_uri": "https://localhost:8080/",
          "height": 1000
        },
        "id": "7bNApOi7eJ76",
        "outputId": "e02cb543-5090-4c38-e9b1-d7d75f09f056"
      },
      "outputs": [
        {
          "name": "stdout",
          "output_type": "stream",
          "text": [
            "\n",
            "--- Training Logistic Regression ---\n",
            "Logistic Regression Metrics:\n",
            "Accuracy: 0.5000\n",
            "Precision: 0.5000\n",
            "Recall: 1.0000\n",
            "F1-Score: 0.6667\n"
          ]
        },
        {
          "data": {
            "image/png": "[encoded data removed]",
            "text/plain": [
              "<Figure size 600x400 with 2 Axes>"
            ]
          },
          "metadata": {},
          "output_type": "display_data"
        },
        {
          "name": "stdout",
          "output_type": "stream",
          "text": [
            "\n",
            "--- Training Random Forest ---\n",
            "Random Forest Metrics:\n",
            "Accuracy: 0.5000\n",
            "Precision: 0.5000\n",
            "Recall: 1.0000\n",
            "F1-Score: 0.6667\n"
          ]
        },
        {
          "data": {
            "image/png": "[encoded data removed]",
            "text/plain": [
              "<Figure size 600x400 with 2 Axes>"
            ]
          },
          "metadata": {},
          "output_type": "display_data"
        },
        {
          "name": "stdout",
          "output_type": "stream",
          "text": [
            "\n",
            "--- Best Model Selected: Logistic Regression (F1-Score: 0.6667) ---\n"
          ]
        }
      ],
      "source": [
        "#Model Training and Evaluation\n",
        "# Function to train and evaluate a model\n",
        "def train_evaluate_model(model, X_train, y_train, X_test, y_test, model_name):\n",
        "    print(f\"\\n--- Training {model_name} ---\")\n",
        "    model.fit(X_train, y_train)\n",
        "    y_pred = model.predict(X_test)\n",
        "\n",
        "    # --- CHECKLIST: Evaluation Metrics ---\n",
        "    accuracy = accuracy_score(y_test, y_pred)\n",
        "    precision = precision_score(y_test, y_pred)\n",
        "    recall = recall_score(y_test, y_pred)\n",
        "    f1 = f1_score(y_test, y_pred)\n",
        "\n",
        "    print(f\"{model_name} Metrics:\")\n",
        "    print(f\"Accuracy: {accuracy:.4f}\")\n",
        "    print(f\"Precision: {precision:.4f}\")\n",
        "    print(f\"Recall: {recall:.4f}\")\n",
        "    print(f\"F1-Score: {f1:.4f}\")\n",
        "\n",
        "    # Confusion Matrix (Part of Deliverables)\n",
        "    cm = confusion_matrix(y_test, y_pred)\n",
        "    plt.figure(figsize=(6, 4))\n",
        "    sns.heatmap(cm, annot=True, fmt='d', cmap='Blues',\n",
        "                xticklabels=['Negative', 'Positive'], yticklabels=['Negative', 'Positive'])\n",
        "    plt.title(f'Confusion Matrix for {model_name}')\n",
        "    plt.xlabel('Predicted Label')\n",
        "    plt.ylabel('True Label')\n",
        "    plt.show() #\n",
        "\n",
        "    return {'model': model, 'accuracy': accuracy, 'f1': f1, 'name': model_name}\n",
        "\n",
        "# --- CHECKLIST: Train Logistic Regression model ---\n",
        "logreg_result = train_evaluate_model(\n",
        "    LogisticRegression(solver='liblinear', random_state=42),\n",
        "    X_train_tfidf, y_train, X_test_tfidf, y_test, 'Logistic Regression'\n",
        ")\n",
        "\n",
        "# --- CHECKLIST: Train Random Forest model (optional) ---\n",
        "rf_result = train_evaluate_model(\n",
        "    RandomForestClassifier(n_estimators=100, random_state=42, n_jobs=-1),\n",
        "    X_train_tfidf, y_train, X_test_tfidf, y_test, 'Random Forest'\n",
        ")\n",
        "\n",
        "# --- CHECKLIST: Compare model performances and select the best model ---\n",
        "results = [logreg_result, rf_result]\n",
        "best_model = max(results, key=lambda x: x['f1'])\n",
        "print(f\"\\n--- Best Model Selected: {best_model['name']} (F1-Score: {best_model['f1']:.4f}) ---\")"
      ]
    },
    {
      "cell_type": "code",
      "execution_count": 7,
      "metadata": {
        "colab": {
          "base_uri": "https://localhost:8080/"
        },
        "id": "p16iAOkEeTYc",
        "outputId": "ebd66bae-622c-4fe1-9de2-b009d988063d"
      },
      "outputs": [
        {
          "name": "stdout",
          "output_type": "stream",
          "text": [
            "\n",
            "--- Pipeline Test Results ---\n",
            "Review: 'The movie was a total disaster, slow and the worst experience.' -> Prediction: Negative\n",
            "Review: 'Highly recommended! The plot twist was genuinely surprising and the acting superb.' -> Prediction: Positive\n",
            "Review: 'It was just okay, nothing special, but not bad either.' -> Prediction: Positive\n",
            "\n",
            "Pipeline saved successfully as 'sentiment_pipeline.joblib'.\n",
            "\n",
            "--- Insights: Top 10 words contributing to NEGATIVE Sentiment ---\n",
            "movie         -0.184124\n",
            "ive           -0.184124\n",
            "skip          -0.184124\n",
            "seen          -0.184124\n",
            "worst         -0.184124\n",
            "year          -0.184124\n",
            "brilliant      0.176356\n",
            "cinema         0.176356\n",
            "masterpiece    0.176356\n",
            "liked          0.176356\n",
            "dtype: float64\n",
            "\n",
            "--- Insights: Top 10 words contributing to POSITIVE Sentiment ---\n",
            "brilliant      0.176356\n",
            "cinema         0.176356\n",
            "ending         0.176356\n",
            "great          0.176356\n",
            "liked          0.176356\n",
            "masterpiece    0.176356\n",
            "truly          0.176356\n",
            "okay           0.176356\n",
            "ive           -0.184124\n",
            "movie         -0.184124\n",
            "dtype: float64\n"
          ]
        }
      ],
      "source": [
        "#Reusable Pipeline & Documentation Insights\n",
        "# --- CHECKLIST: Wrap preprocessing, feature extraction, and training into functions/pipeline ---\n",
        "# Create a robust pipeline with the best model (Logistic Regression is typically best for speed/simplicity)\n",
        "best_model_clf = best_model['model']\n",
        "\n",
        "sentiment_pipeline = Pipeline([\n",
        "    ('vectorizer', TfidfVectorizer(max_features=5000,\n",
        "                                   preprocessor=preprocess_text,\n",
        "                                   token_pattern=r'(?u)\\b\\w+\\b')),\n",
        "    ('classifier', best_model_clf)\n",
        "])\n",
        "\n",
        "# Re-train the pipeline on the full training data (optional, but good practice)\n",
        "sentiment_pipeline.fit(X_train, y_train)\n",
        "\n",
        "# --- CHECKLIST: Test pipeline on multiple text samples ---\n",
        "test_samples = [\n",
        "    \"The movie was a total disaster, slow and the worst experience.\",\n",
        "    \"Highly recommended! The plot twist was genuinely surprising and the acting superb.\",\n",
        "    \"It was just okay, nothing special, but not bad either.\"\n",
        "]\n",
        "\n",
        "predictions = sentiment_pipeline.predict(test_samples)\n",
        "prediction_labels = ['Positive' if p == 1 else 'Negative' for p in predictions]\n",
        "\n",
        "print(\"\\n--- Pipeline Test Results ---\")\n",
        "for text, label in zip(test_samples, prediction_labels):\n",
        "    print(f\"Review: '{text}' -> Prediction: {label}\")\n",
        "\n",
        "# --- CHECKLIST: Save trained models for future use ---\n",
        "joblib.dump(sentiment_pipeline, 'sentiment_pipeline.joblib')\n",
        "print(\"\\nPipeline saved successfully as 'sentiment_pipeline.joblib'.\")\n",
        "\n",
        "\n",
        "# --- DELIVERABLE: Insights on which words/features contribute most to sentiment ---\n",
        "# This is best done with Logistic Regression (due to its linear coefficients)\n",
        "if best_model['name'] == 'Logistic Regression' or 'Logistic Regression' in logreg_result:\n",
        "\n",
        "    # Access the fitted TfidfVectorizer's vocabulary\n",
        "    feature_names = tfidf_vectorizer.get_feature_names_out()\n",
        "\n",
        "    # Access the fitted Logistic Regression coefficients (weights)\n",
        "    logreg_weights = logreg_result['model'].coef_[0]\n",
        "\n",
        "    # Create a Series of weights indexed by feature name\n",
        "    weights_series = pd.Series(logreg_weights, index=feature_names)\n",
        "\n",
        "    # Get top 10 positive and negative words\n",
        "    top_negative_words = weights_series.sort_values(ascending=True).head(10)\n",
        "    top_positive_words = weights_series.sort_values(ascending=False).head(10)\n",
        "\n",
        "    print(\"\\n--- Insights: Top 10 words contributing to NEGATIVE Sentiment ---\")\n",
        "    print(top_negative_words)\n",
        "\n",
        "    print(\"\\n--- Insights: Top 10 words contributing to POSITIVE Sentiment ---\")\n",
        "    print(top_positive_words)"
      ]
    }
  ],
  "metadata": {
    "colab": {
      "provenance": []
    },
    "kernelspec": {
      "display_name": "Python 3",
      "name": "python3"
    },
    "language_info": {
      "name": "python"
    }
  },
  "nbformat": 4,
  "nbformat_minor": 0
}
